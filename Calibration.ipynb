{
 "cells": [
  {
   "cell_type": "markdown",
   "metadata": {},
   "source": [
    "# Calibration\n",
    "inspired by: http://jasss.soc.surrey.ac.uk/17/3/11.html"
   ]
  },
  {
   "cell_type": "code",
   "execution_count": null,
   "metadata": {},
   "outputs": [],
   "source": [
    "!pip install numpy matplotlib pandas scipy powerlaw tqdm pandas_datareader quandl SAlib"
   ]
  },
  {
   "cell_type": "code",
   "execution_count": null,
   "metadata": {},
   "outputs": [],
   "source": [
    "%matplotlib inline\n",
    "import math\n",
    "import numpy as np\n",
    "import numpy.random as nrand\n",
    "import matplotlib.pyplot as plt\n",
    "import pandas as pd\n",
    "import itertools\n",
    "import scipy.stats as stats\n",
    "import powerlaw\n",
    "from stockmarket import baselinemodel\n",
    "from tqdm import tqdm\n",
    "from pandas_datareader import data\n",
    "from pylab import plot, show\n",
    "from math import isclose\n",
    "from stockmarket.stylizedfacts import *\n",
    "import itertools\n",
    "import quandl\n",
    "import calibration"
   ]
  },
  {
   "cell_type": "code",
   "execution_count": null,
   "metadata": {},
   "outputs": [],
   "source": [
    "print (np.__version__)"
   ]
  },
  {
   "cell_type": "markdown",
   "metadata": {},
   "source": [
    "# Import SPY data"
   ]
  },
  {
   "cell_type": "markdown",
   "metadata": {},
   "source": [
    "### Prices"
   ]
  },
  {
   "cell_type": "code",
   "execution_count": null,
   "metadata": {},
   "outputs": [],
   "source": [
    "start_date = '2010-01-01'\n",
    "end_date = '2016-12-31'\n",
    "\n",
    "spy = data.DataReader(\"SPY\", \n",
    "                       start=start_date, \n",
    "                       end=end_date, \n",
    "                       data_source='yahoo')['Close']\n",
    "\n",
    "spy.plot(title='AAPL Adj. Closing Price')"
   ]
  },
  {
   "cell_type": "markdown",
   "metadata": {},
   "source": [
    "### Returns"
   ]
  },
  {
   "cell_type": "code",
   "execution_count": null,
   "metadata": {},
   "outputs": [],
   "source": [
    "returns = spy.pct_change()\n",
    "((1 + returns).cumprod() - 1).plot(title='SPY Cumulative Returns')"
   ]
  },
  {
   "cell_type": "code",
   "execution_count": null,
   "metadata": {},
   "outputs": [],
   "source": [
    "len(returns)"
   ]
  },
  {
   "cell_type": "markdown",
   "metadata": {},
   "source": [
    "### Price to earnings"
   ]
  },
  {
   "cell_type": "code",
   "execution_count": null,
   "metadata": {},
   "outputs": [],
   "source": [
    "price_to_earning = quandl.get(\"MULTPL/SP500_PE_RATIO_MONTH\", authtoken=\"8EKNms1cLLU-dBjk5Y4d\").loc[start_date:end_date]\n",
    "price_to_earning.plot(title='SPY Price to earnings')"
   ]
  },
  {
   "cell_type": "markdown",
   "metadata": {},
   "source": [
    "# 1 Calibrate zero intelligence benchmark to S&P 500 data\n",
    "\n",
    "First we determine the value of money, initial profit and the discount rate by minimising the distance to the price to average price to earnings ratio observed in the S&P 500. \n",
    "\n",
    "| Parameter | Values |\n",
    "| -------------| ------------|\n",
    "| initial_total_money       | 13000 - 23000       |\n",
    "| initial_profit       | 1000 - 10000    |\n",
    "| discount_rate       | 0.01 - 0.25       |\n",
    "\n",
    "\n",
    "$pricetoearningscriteria(x)=\\left\\{\\begin{array}{cl}(\\frac{av - x}{av})^2 & \\quad \\textrm{if} \\quad\\  lowerx < x < upperx,\\\\\n",
    "\\infty &\\quad \\textrm{otherwise}\\quad\\\\\\\n",
    "\\end{array}\\right.,$"
   ]
  },
  {
   "cell_type": "code",
   "execution_count": null,
   "metadata": {},
   "outputs": [],
   "source": [
    "# Full factorial design for: \n",
    "initial_total_money = [x for x in range(26000, 33000, 2000)]\n",
    "initial_profit = [x for x in range(1000, 10000, 2000)]\n",
    "discount_rate = [x / 100 for x in range(1, 25, 2)]\n",
    "factors = list(itertools.product(initial_total_money, initial_profit, discount_rate))"
   ]
  },
  {
   "cell_type": "code",
   "execution_count": null,
   "metadata": {},
   "outputs": [],
   "source": [
    "len(factors)"
   ]
  },
  {
   "cell_type": "code",
   "execution_count": null,
   "metadata": {},
   "outputs": [],
   "source": [
    "results = {}\n",
    "# for every parameter possibility:\n",
    "# TODO use ray/multiprocessing\n",
    "for idx, parameters in tqdm(enumerate(factors)):\n",
    "    results[str(idx)] = calibration.simulate_model(price_to_earning, parameters)\n",
    "    if idx == 5:\n",
    "        break  # TODO\n",
    "results"
   ]
  },
  {
   "cell_type": "code",
   "execution_count": null,
   "metadata": {},
   "outputs": [],
   "source": [
    "## Find the smallest error\n",
    "calibrated_parameters_location = min(results, key=results.get)\n",
    "calibrated_parameters_location"
   ]
  },
  {
   "cell_type": "markdown",
   "metadata": {},
   "source": [
    "# The parameter values are:"
   ]
  },
  {
   "cell_type": "code",
   "execution_count": null,
   "metadata": {},
   "outputs": [],
   "source": [
    "#parameters = factors[int(calibrated_parameters_location)]\n",
    "backward_simulated_time = 400\n",
    "initial_total_money = 26000\n",
    "init_profit = 1000\n",
    "init_discount_rate = 0.17"
   ]
  },
  {
   "cell_type": "markdown",
   "metadata": {},
   "source": [
    "# 2 Calibration with stylized facts\n",
    "\n",
    "\n",
    "### Constrained parameters\n",
    "Then, we determine the value of the remaining parameters\n",
    "\n",
    "| Parameter | Values |\n",
    "| -------------| ------------|\n",
    "| share_chartists       | 0 - 1, 0.1      |\n",
    "| share_mean_reversion       | 0 - 1, 0.1   |\n",
    "| order_expiration_time       | 1000 - 10000, 1000      |\n",
    "| agent_order_price_variability       | 1 - 10, 1      |\n",
    "| agent_order_variability       | 0.1 - 5       |\n",
    "| agent_ma_short       | 5 - 100, 5      |\n",
    "| agent_ma_long       | 50 - 400, 50      |\n",
    "| agents_hold_thresholds       | 0.0005        |\n",
    "| Agent_volume_risk_aversion       | 0.1 - 1, 0.1      |\n",
    "| Agent_propensity_to_switch       | 0.1 - 2.2, 0.1      |\n",
    "| profit_announcement_working_days       | 5 - 50, 5       |\n",
    "| price_to_earnings_spread       | 5 - 50, 5       |\n",
    "| price_to_earnings_heterogeneity       | 5 - 50, 5       |"
   ]
  },
  {
   "cell_type": "markdown",
   "metadata": {},
   "source": [
    "## Parameter sampling using latin hypercube sampling\n",
    "\n",
    "extra parameters: \n",
    "\n",
    "* price to earnings base (lowest value) --> [10,20] \n",
    "* price to earnings heterogeneity lowPE * price to earnings heterogeneity = highPE --> [1.1,2.5]\n",
    "* price to earnings gap (high-low + gap = low_high) --> int([4,20]) \n",
    "* price longMA window heterogeneity (high longMA = heterogeneity*lowlongMA)  --> [1.1,1.8]\n",
    "* price shortMA window heterogeneity (high shortMA = heterogeneity*shortlongMA) --> [1.1,1.8]\n",
    "* shortMA memory divider --> int()"
   ]
  },
  {
   "cell_type": "code",
   "execution_count": null,
   "metadata": {},
   "outputs": [],
   "source": [
    "problem = {\n",
    "  'num_vars': 17,\n",
    "  'names': ['share_chartists', 'share_mean_reversion', 'order_expiration_time', 'agent_order_price_variability', \n",
    "            'agent_order_variability', 'agent_ma_short', 'agent_ma_long', 'agents_hold_thresholds',\n",
    "           'agent_volume_risk_aversion', 'agent_propensity_to_switch', 'profit_announcement_working_days',\n",
    "           'price_to_earnings_base', 'price_to_earnings_heterogeneity', 'price_to_earnings_gap',\n",
    "           'longMA_heterogeneity', 'shortMA_heterogeneity', 'shortMA_memory_divider'],\n",
    "  'bounds': [[0, 1], [0, 1], [1000, 10000], [1, 10], \n",
    "             [0.1, 5.0], [5, 100], [50, 400], [0.00005,0.01], \n",
    "             [0.1, 1], [0.1, 2.2], [5, 50],\n",
    "             [10,20], [1.1,2.5], [4,20],\n",
    "             [1.1,1.8], [1.1,1.8], [1, 10]]\n",
    "}"
   ]
  },
  {
   "cell_type": "code",
   "execution_count": null,
   "metadata": {},
   "outputs": [],
   "source": [
    "from SALib.sample import latin"
   ]
  },
  {
   "cell_type": "code",
   "execution_count": null,
   "metadata": {},
   "outputs": [],
   "source": [
    "latin_hyper_cube = latin.sample(problem=problem, N=500) # N is the amount of combinations or in the this case amount of simulations"
   ]
  },
  {
   "cell_type": "code",
   "execution_count": null,
   "metadata": {},
   "outputs": [],
   "source": [
    "latin_hyper_cube[1][11]"
   ]
  },
  {
   "cell_type": "code",
   "execution_count": null,
   "metadata": {},
   "outputs": [],
   "source": [
    "# insert latin hypercube sample into parameter\n",
    "share_chartists= latin_hyper_cube[0][0]\n",
    "share_mean_reversion = latin_hyper_cube[0][1]\n",
    "order_expiration_time = int(latin_hyper_cube[0][2])\n",
    "agent_order_price_variability = int(latin_hyper_cube[0][3])\n",
    "agent_order_variability = int(latin_hyper_cube[0][4])\n",
    "agent_ma_short = int(latin_hyper_cube[0][5])\n",
    "agent_ma_long = int(latin_hyper_cube[0][6])\n",
    "agents_hold_thresholds = latin_hyper_cube[0][7]\n",
    "agent_volume_risk_aversion = latin_hyper_cube[0][8]\n",
    "agent_propensity_to_switch = latin_hyper_cube[0][9]\n",
    "profit_announcement_working_days = int(latin_hyper_cube[0][10])\n",
    "price_to_earnings_base = int(latin_hyper_cube[0][11])\n",
    "price_to_earnings_heterogeneity = latin_hyper_cube[0][12]\n",
    "price_to_earnings_gap = int(latin_hyper_cube[0][13])\n",
    "longMA_heterogeneity = latin_hyper_cube[0][14]\n",
    "shortMA_heterogeneity = latin_hyper_cube[0][15]\n",
    "shortMA_memory_divider = latin_hyper_cube[0][16]"
   ]
  },
  {
   "cell_type": "code",
   "execution_count": null,
   "metadata": {},
   "outputs": [],
   "source": [
    "int(latin_hyper_cube[0][11])"
   ]
  },
  {
   "cell_type": "markdown",
   "metadata": {},
   "source": [
    "### Fitness criteria\n",
    "\n",
    "$zeroAutocorrelation(w)=\\left\\{\\begin{array}{cl}(\\frac{spy(w) - w}{spy(w)})^2 & \\quad \\textrm{if} \\quad\\  lowerw < w < upperw,\\\\\n",
    "\\infty &\\quad \\textrm{otherwise}\\quad\\\\\\\n",
    "\\end{array}\\right.,$\n",
    "\n",
    "$fat Tails(x)=\\left\\{\\begin{array}{cl}(\\frac{spy(x) - x}{spy(x)})^2 & \\quad \\textrm{if} \\quad\\  lowerx < x < upperx,\\\\\n",
    "\\infty &\\quad \\textrm{otherwise}\\quad\\\\\\\n",
    "\\end{array}\\right.,$\n",
    "\n",
    "$clustered Volatility(y)=\\left\\{\\begin{array}{cl}(\\frac{spy(y) - y}{spy(y)})^2 & \\quad \\textrm{if} \\quad\\  lowery < y < uppery,\\\\\n",
    "\\infty &\\quad \\textrm{otherwise}\\quad\\\\\\\n",
    "\\end{array}\\right.,$\n",
    "\n",
    "$long Memory(z)=\\left\\{\\begin{array}{cl}(\\frac{spy(z) - z}{spy(z)})^2 & \\quad \\textrm{if} \\quad\\  lowerz < z < upperz,\\\\\n",
    "\\infty &\\quad \\textrm{otherwise}\\quad\\\\\\\n",
    "\\end{array}\\right.,$\n",
    "\n",
    "$cost(w,x,y,z)= zeroAutocorrelation(w) + fat Tails(x) + clustered Volatility(y) + long Memory(z) \\quad \\textrm{if} \\quad\\ \n",
    "\\{w,x,y,z\\} < \\infty\n",
    "$"
   ]
  },
  {
   "cell_type": "markdown",
   "metadata": {},
   "source": [
    "# Calibration to SPY values\n",
    "\n",
    "\n",
    "Perhaps add 1 to all returns and see what that does to the powerlaw function:"
   ]
  },
  {
   "cell_type": "code",
   "execution_count": null,
   "metadata": {},
   "outputs": [],
   "source": [
    "import json"
   ]
  },
  {
   "cell_type": "code",
   "execution_count": null,
   "metadata": {},
   "outputs": [],
   "source": [
    "results = {}\n",
    "# for every parameter possibility:\n",
    "for idx, parameters in tqdm(enumerate(latin_hyper_cube)):\n",
    "    # 1 simulate model\n",
    "    # insert latin hypercube sample into parameter\n",
    "    share_chartists= parameters[0]\n",
    "    share_mean_reversion = parameters[1]\n",
    "    order_expiration_time = int(parameters[2])\n",
    "    agent_order_price_variability = int(parameters[3])\n",
    "    agent_order_variability = parameters[4]\n",
    "    agent_ma_short = int(parameters[5])\n",
    "    agent_ma_long = int(parameters[6])\n",
    "    agents_hold_thresholds = parameters[7]\n",
    "    agent_volume_risk_aversion = parameters[8]\n",
    "    agent_propensity_to_switch = parameters[9]\n",
    "    profit_announcement_working_days = int(parameters[10])\n",
    "    price_to_earnings_base = int(parameters[11])\n",
    "    price_to_earnings_heterogeneity = parameters[12]\n",
    "    price_to_earnings_gap = int(parameters[13])\n",
    "    longMA_heterogeneity = parameters[14]\n",
    "    shortMA_heterogeneity = parameters[15]\n",
    "    shortMA_memory_divider = parameters[16]\n",
    "    \n",
    "    PE_low_low = price_to_earnings_base\n",
    "    PE_low_high = int(price_to_earnings_heterogeneity*price_to_earnings_base)\n",
    "    PE_high_low = PE_low_high + price_to_earnings_gap\n",
    "    PE_high_high = int(price_to_earnings_heterogeneity*PE_high_low)\n",
    "    #print('PE ratios are: ', PE_low_low, PE_low_high, PE_high_low, PE_high_high)\n",
    "    \n",
    "    # simulate the model \n",
    "    agents, firms, stocks, order_books = baselinemodel.stockMarketSimulation(seed=0,\n",
    "                                                                             simulation_time=200,\n",
    "                                                                         init_backward_simulated_time=int(agent_ma_long*longMA_heterogeneity),\n",
    "                                                                         number_of_agents=1000,\n",
    "                                                                         share_chartists=share_chartists,\n",
    "                                                                         share_mean_reversion=share_mean_reversion,\n",
    "                                                                         amount_of_firms=1,\n",
    "                                                                         initial_total_money=(initial_total_money,int(initial_total_money*1.1)),\n",
    "                                                                         initial_profit=(init_profit, init_profit),\n",
    "                                                                         discount_rate=init_discount_rate,\n",
    "                                                                         init_price_to_earnings_window=((PE_low_low,\n",
    "                                                                                                         PE_low_high),\n",
    "                                                                                                        (PE_high_low,\n",
    "                                                                                                         PE_high_high)),\n",
    "                                                                         order_expiration_time=order_expiration_time,\n",
    "                                                                         agent_order_price_variability=(agent_order_price_variability,agent_order_price_variability),\n",
    "                                                                         agent_order_variability=agent_order_variability,\n",
    "                                                                         agent_ma_short=(agent_ma_short, int(agent_ma_short*shortMA_heterogeneity)),\n",
    "                                                                         agent_ma_long=(agent_ma_long, int(agent_ma_long*longMA_heterogeneity)),\n",
    "                                                                         agents_hold_thresholds=(1-agents_hold_thresholds, 1+agents_hold_thresholds),\n",
    "                                                                         agent_volume_risk_aversion=agent_volume_risk_aversion,\n",
    "                                                                         agent_propensity_to_switch=agent_propensity_to_switch,\n",
    "                                                                         firm_profit_mu=0.058,\n",
    "                                                                         firm_profit_delta=0.00396825396,\n",
    "                                                                         firm_profit_sigma=0.125,\n",
    "                                                                         profit_announcement_working_days=profit_announcement_working_days,\n",
    "                                                                             mean_reversion_memory_divider=4,\n",
    "                                                                         printProgress=False,\n",
    "                                                                         )\n",
    "    # Apply the tests \n",
    "    # apply all tests to the model \n",
    "    # test 1\n",
    "    first_test = zero_autocorrelation(calculate_returns(order_books[0].transaction_prices_history), 25)\n",
    "    # test 2\n",
    "    second_test = fat_tails_kurtosis(calculate_returns(order_books[0].transaction_prices_history))#fat_tails(calculate_returns(order_books[0].transaction_prices_history))\n",
    "    # test 3\n",
    "    third_test = clustered_volatility(calculate_returns(order_books[0].transaction_prices_history), 25)\n",
    "    # test 4\n",
    "    fourth_test = long_memory(calculate_returns(order_books[0].transaction_prices_history), hurst, 2, 20)\n",
    "    # save parameter space and test results\n",
    "    results[idx] = [first_test, second_test, third_test, fourth_test]\n",
    "\n",
    "#store results in json file    \n",
    "with open('result.json', 'w') as fp:\n",
    "    json.dump(results, fp)\n",
    "# store succesfull results in another json file\n",
    "passed_results = {}\n",
    "for key in results:\n",
    "    passed_all_tests = []\n",
    "    for element in results[key]:\n",
    "        #print (element)\n",
    "        passed_all_tests.append(element[0])\n",
    "    if not False in passed_all_tests:\n",
    "        passed_results[key] = results[key]\n",
    "\n",
    "with open('passed_results.json', 'w') as fp:\n",
    "    json.dump(passed_results, fp)"
   ]
  },
  {
   "cell_type": "code",
   "execution_count": null,
   "metadata": {},
   "outputs": [],
   "source": [
    "# store the succesful parameters in a file\n",
    "succesfull_parameters = {}\n",
    "for key in passed_results:\n",
    "    succesfull_parameters[key] = list(latin_hyper_cube[key])\n",
    "with open('succesfull_parameters.json', 'w') as fp:\n",
    "    json.dump(succesfull_parameters, fp)"
   ]
  },
  {
   "cell_type": "markdown",
   "metadata": {},
   "source": [
    "## Measure stylized facts in observed data"
   ]
  },
  {
   "cell_type": "code",
   "execution_count": null,
   "metadata": {},
   "outputs": [],
   "source": [
    "observed_autocorrelation = zero_autocorrelation(returns[200:], 25)[1]\n",
    "observed_tail_fatness = returns[200:].kurtosis()\n",
    "observed_volatility_clusterdness = clustered_volatility(returns[200:], 25)[1]\n",
    "observed_long_memory = long_memory(returns[200:], hurst, 2, 20)[1]"
   ]
  },
  {
   "cell_type": "code",
   "execution_count": null,
   "metadata": {},
   "outputs": [],
   "source": [
    "observed_long_memory"
   ]
  },
  {
   "cell_type": "code",
   "execution_count": null,
   "metadata": {},
   "outputs": [],
   "source": [
    "observed_values = [observed_autocorrelation, observed_tail_fatness, observed_volatility_clusterdness, observed_long_memory]"
   ]
  },
  {
   "cell_type": "code",
   "execution_count": null,
   "metadata": {},
   "outputs": [],
   "source": [
    "def cost_calibration_two(observed_values, simulated_values):\n",
    "    \"\"\"cost function\"\"\"\n",
    "    score = 0\n",
    "    for obs, sim in zip(observed_values, simulated_values):\n",
    "        score += ((obs - sim) / obs)**2\n",
    "    return score"
   ]
  },
  {
   "cell_type": "code",
   "execution_count": null,
   "metadata": {},
   "outputs": [],
   "source": [
    "fit = {}\n",
    "for key in passed_results: \n",
    "    #print(passed_results[key])\n",
    "    sim_values = []\n",
    "    for val in passed_results[key]:\n",
    "        sim_values.append(val[1])\n",
    "    cost = cost_calibration_two(observed_values, sim_values)\n",
    "    fit[key] = cost\n",
    "fit"
   ]
  },
  {
   "cell_type": "code",
   "execution_count": null,
   "metadata": {},
   "outputs": [],
   "source": [
    "# change certain parameters to int\n",
    "should_be_int = [2,3,5,6,10,11,13]"
   ]
  },
  {
   "cell_type": "code",
   "execution_count": null,
   "metadata": {},
   "outputs": [],
   "source": [
    "calibrated_parameters = succesfull_parameters[min(fit, key=fit.get)]\n",
    "calibrated_parameters\n",
    "for integer in should_be_int:\n",
    "    #print(int(calibrated_parameters[integer]))\n",
    "    calibrated_parameters[integer] = int(calibrated_parameters[integer])\n",
    "    \n",
    "calibrated_parameters"
   ]
  },
  {
   "cell_type": "code",
   "execution_count": null,
   "metadata": {},
   "outputs": [],
   "source": [
    "nameParam = {}\n",
    "for name, parameter in zip(problem['names'], calibrated_parameters):\n",
    "    nameParam[name] = parameter\n",
    "nameParam"
   ]
  },
  {
   "cell_type": "code",
   "execution_count": null,
   "metadata": {},
   "outputs": [],
   "source": [
    "with open('calibrated_parameters.json', 'w') as fp:\n",
    "    json.dump(nameParam, fp)"
   ]
  }
 ],
 "metadata": {
  "anaconda-cloud": {},
  "kernelspec": {
   "display_name": "Python 3",
   "language": "python",
   "name": "python3"
  },
  "language_info": {
   "codemirror_mode": {
    "name": "ipython",
    "version": 3
   },
   "file_extension": ".py",
   "mimetype": "text/x-python",
   "name": "python",
   "nbconvert_exporter": "python",
   "pygments_lexer": "ipython3",
   "version": "3.6.7"
  }
 },
 "nbformat": 4,
 "nbformat_minor": 1
}
